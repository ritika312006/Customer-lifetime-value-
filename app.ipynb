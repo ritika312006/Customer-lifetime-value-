{
 "cells": [
  {
   "cell_type": "code",
   "execution_count": 1,
   "id": "64872600-530a-4b4a-806f-b8ee03babb67",
   "metadata": {},
   "outputs": [],
   "source": [
    "#import pandas as pd  \n",
    "#df = pd.read_csv(\"C:\\\\Users\\\\Hi\\\\Downloads\\\\online_retail_II(Year 2010-2011).csv\", encoding=\"ISO-8859-1\", parse_dates=['InvoiceDate'])\n",
    "import pandas as pd\n",
    "\n",
    "df = pd.read_csv(\"online_retail_II(Year 2010-2011).csv\", encoding=\"ISO-8859-1\", parse_dates=['InvoiceDate'])\n"
   ]
  },
  {
   "cell_type": "code",
   "execution_count": 3,
   "id": "3eeff44c-1014-4a1c-abb1-737c249e4127",
   "metadata": {},
   "outputs": [
    {
     "name": "stdout",
     "output_type": "stream",
     "text": [
      "['Invoice', 'StockCode', 'Description', 'Quantity', 'InvoiceDate', 'Price', 'Customer ID', 'Country']\n"
     ]
    }
   ],
   "source": [
    "print(df.columns.tolist())\n"
   ]
  },
  {
   "cell_type": "code",
   "execution_count": 5,
   "id": "61626163-9bb7-4c66-8166-43d2cba8ae3f",
   "metadata": {},
   "outputs": [],
   "source": [
    "df = df.rename(columns={\n",
    "    'Customer ID': 'CustomerID',\n",
    "    'Price': 'UnitPrice'\n",
    "})\n"
   ]
  },
  {
   "cell_type": "code",
   "execution_count": 7,
   "id": "3ef9b7bf-1c13-46f1-a85a-687edfd9f07a",
   "metadata": {},
   "outputs": [],
   "source": [
    "df.columns = df.columns.str.strip().str.replace(' ', '').str.lower()\n",
    "# Now: ['invoice','stockcode','description','quantity','invoicedate','price','customerid','country']\n"
   ]
  },
  {
   "cell_type": "code",
   "execution_count": 9,
   "id": "4f21db13-2e9c-4329-96bc-cc3bf64bc665",
   "metadata": {},
   "outputs": [],
   "source": [
    "df.columns = df.columns.str.strip().str.lower().str.replace(' ', '_')\n",
    "# => ['invoice', 'stockcode', 'description', 'quantity', 'invoice_date', 'price', 'customer_id', 'country']\n"
   ]
  },
  {
   "cell_type": "code",
   "execution_count": 11,
   "id": "3c2cb194-5da2-40ce-b100-3616155dece9",
   "metadata": {},
   "outputs": [],
   "source": [
    "df = pd.read_csv(\"C:\\\\Users\\\\Hi\\\\Downloads\\\\online_retail_II(Year 2010-2011).csv\"\n",
    "    ,\n",
    "    encoding=\"unicode_escape\",\n",
    "    names=['invoice','stockcode','description','quantity','invoicedate','unitprice','customerid','country'],\n",
    "    header=0,  # treat the first row as header\n",
    "    parse_dates=['invoicedate']\n",
    ")\n"
   ]
  },
  {
   "cell_type": "code",
   "execution_count": 13,
   "id": "b158f445-00dc-44a0-aad5-4f06fa36fa72",
   "metadata": {},
   "outputs": [],
   "source": [
    "df = df[df['customerid'].notna()]\n",
    "df = df[df['quantity'] > 0]\n",
    "df = df[df['unitprice'] > 0]\n",
    "df = df[~df['invoice'].str.startswith('C', na=False)]\n",
    "df['totalprice'] = df['quantity'] * df['unitprice']\n"
   ]
  },
  {
   "cell_type": "code",
   "execution_count": 15,
   "id": "418d395f-9f00-46a6-99b1-1da0e82d20ae",
   "metadata": {},
   "outputs": [
    {
     "name": "stdout",
     "output_type": "stream",
     "text": [
      "['invoice', 'stockcode', 'description', 'quantity', 'invoicedate', 'unitprice', 'customerid', 'country', 'totalprice']\n"
     ]
    }
   ],
   "source": [
    "print(df.columns.tolist())\n"
   ]
  },
  {
   "cell_type": "code",
   "execution_count": 17,
   "id": "5e9ddc56-eaba-4d0b-8122-c7a52a2cb8da",
   "metadata": {},
   "outputs": [],
   "source": [
    "from lifetimes.utils import summary_data_from_transaction_data\n",
    "\n",
    "summary = summary_data_from_transaction_data(\n",
    "    df,\n",
    "    customer_id_col='customerid',\n",
    "    datetime_col='invoicedate',\n",
    "    monetary_value_col='totalprice',\n",
    "    observation_period_end=df['invoicedate'].max()\n",
    ")\n",
    "\n",
    "# Optionally, filter to repeat customers\n",
    "summary = summary[summary['frequency'] > 0]\n"
   ]
  },
  {
   "cell_type": "code",
   "execution_count": 61,
   "id": "a559b18b-a825-415b-ade1-ba9deef76938",
   "metadata": {},
   "outputs": [],
   "source": [
    "from lifetimes import BetaGeoFitter\n",
    "\n",
    "bgf = BetaGeoFitter(penalizer_coef=0.001)\n",
    "bgf.fit(summary['frequency'], summary['recency'], summary['T'])\n",
    "\n",
    "# Predict next 6 months (≈180 days)\n",
    "summary['predicted_purchases_6mo'] = bgf.conditional_expected_number_of_purchases_up_to_time(\n",
    "    180,\n",
    "    summary['frequency'],\n",
    "    summary['recency'],\n",
    "    summary['T']\n",
    ")\n"
   ]
  },
  {
   "cell_type": "code",
   "execution_count": 19,
   "id": "9c9182ca-a59c-4e61-a3d2-ba39b46abd4e",
   "metadata": {},
   "outputs": [],
   "source": [
    "from lifetimes import GammaGammaFitter\n",
    "\n",
    "# Ensure frequency > 0\n",
    "monetary_summary = summary[summary['frequency'] > 0]\n",
    "\n",
    "ggf = GammaGammaFitter(penalizer_coef=0.01)\n",
    "ggf.fit(monetary_summary['frequency'], monetary_summary['monetary_value'])\n",
    "\n",
    "# Expected transaction value\n",
    "summary.loc[monetary_summary.index, 'expected_avg_purchase'] = ggf.conditional_expected_average_profit(\n",
    "    monetary_summary['frequency'],\n",
    "    monetary_summary['monetary_value']\n",
    ")\n"
   ]
  },
  {
   "cell_type": "code",
   "execution_count": 25,
   "id": "681f21c7-b2d9-453d-aeb4-43406757db84",
   "metadata": {},
   "outputs": [],
   "source": [
    "# 🧹 Filter for valid data before fitting\n",
    "summary = summary[(summary['monetary_value'] > 0) & (summary['frequency'] > 0)]\n",
    "\n",
    "# ✅ Fit the BG/NBD model\n",
    "from lifetimes import BetaGeoFitter, GammaGammaFitter\n",
    "\n",
    "bgf = BetaGeoFitter()\n",
    "bgf.fit(summary['frequency'], summary['recency'], summary['T'])\n",
    "\n",
    "# ✅ Fit the Gamma-Gamma model\n",
    "ggf = GammaGammaFitter()\n",
    "ggf.fit(summary['frequency'], summary['monetary_value'])\n",
    "\n",
    "# ✅ Predict 6-month Customer Lifetime Value\n",
    "summary['clv_6mo'] = ggf.customer_lifetime_value(\n",
    "    transaction_prediction_model=bgf,\n",
    "    frequency=summary['frequency'],\n",
    "    recency=summary['recency'],\n",
    "    T=summary['T'],\n",
    "    monetary_value=summary['monetary_value'],\n",
    "    time=6,          # Predicting 6 months\n",
    "    freq='D',        # Daily frequency\n",
    "    discount_rate=0.01\n",
    ")\n"
   ]
  },
  {
   "cell_type": "code",
   "execution_count": 27,
   "id": "51abfe9d-4703-4d61-99cd-1335b6c11ef9",
   "metadata": {},
   "outputs": [
    {
     "name": "stdout",
     "output_type": "stream",
     "text": [
      "                  clv_6mo\n",
      "customerid               \n",
      "16446.0     119769.660353\n",
      "14646.0     107010.520300\n",
      "18102.0      87930.695994\n",
      "17450.0      72366.737470\n",
      "14096.0      56574.085061\n",
      "14911.0      52084.220654\n",
      "12415.0      48211.784144\n",
      "14156.0      43259.757752\n",
      "17511.0      33196.082529\n",
      "16029.0      28399.355806\n"
     ]
    }
   ],
   "source": [
    "# Top 10 high-value customers\n",
    "top_customers = summary.sort_values(by='clv_6mo', ascending=False).head(10)\n",
    "print(top_customers[['clv_6mo']])\n"
   ]
  },
  {
   "cell_type": "code",
   "execution_count": 29,
   "id": "b46e8d86-00ba-49be-89d4-2a7a0b9a18ef",
   "metadata": {},
   "outputs": [
    {
     "data": {
      "image/png": "[encoded data removed]",
      "text/plain": [
       "<Figure size 1000x600 with 1 Axes>"
      ]
     },
     "metadata": {},
     "output_type": "display_data"
    }
   ],
   "source": [
    "import matplotlib.pyplot as plt\n",
    "import seaborn as sns\n",
    "\n",
    "plt.figure(figsize=(10,6))\n",
    "sns.histplot(summary['clv_6mo'], bins=50, kde=True)\n",
    "plt.title('Distribution of 6-Month Customer Lifetime Value')\n",
    "plt.xlabel('CLV (6 months)')\n",
    "plt.ylabel('Number of Customers')\n",
    "plt.show()\n"
   ]
  },
  {
   "cell_type": "code",
   "execution_count": null,
   "id": "507c83e7-f026-46c8-8bcd-94220953eba6",
   "metadata": {},
   "outputs": [],
   "source": []
  }
 ],
 "metadata": {
  "kernelspec": {
   "display_name": "Python 3 (ipykernel)",
   "language": "python",
   "name": "python3"
  },
  "language_info": {
   "codemirror_mode": {
    "name": "ipython",
    "version": 3
   },
   "file_extension": ".py",
   "mimetype": "text/x-python",
   "name": "python",
   "nbconvert_exporter": "python",
   "pygments_lexer": "ipython3",
   "version": "3.12.4"
  }
 },
 "nbformat": 4,
 "nbformat_minor": 5
}
